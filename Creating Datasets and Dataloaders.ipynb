{
 "cells": [
  {
   "cell_type": "code",
   "execution_count": 1,
   "metadata": {},
   "outputs": [],
   "source": [
    "import torch\n",
    "from torch.utils.data import Dataset,DataLoader\n",
    "from pathlib import Path\n",
    "import pandas as pd\n",
    "\n",
    "from torch.nn.utils.rnn import pad_sequence,pack_padded_sequence,pad_packed_sequence\n",
    "from scripts.transliteration_tokenizers import create_source_target_tokenizers\n",
    "from scripts.data_utils import TransliterationDataset,pad_collate\n",
    "\n",
    "use_cuda = torch.cuda.is_available()\n",
    "device = torch.device(\"cuda\" if use_cuda else \"cpu\")"
   ]
  },
  {
   "cell_type": "code",
   "execution_count": 2,
   "metadata": {},
   "outputs": [],
   "source": [
    "cur_dir = Path.cwd()\n",
    "data_dir = cur_dir / \"data\"\n",
    "raw_data_dir = data_dir / \"raw_data\"\n",
    "proc_data_dir = data_dir / \"processed_data\""
   ]
  },
  {
   "cell_type": "code",
   "execution_count": 3,
   "metadata": {},
   "outputs": [],
   "source": [
    "sample_file = raw_data_dir / \"sample.tsv\"\n",
    "\n",
    "train_file = proc_data_dir / \"train_clean.tsv\"\n",
    "dev_file = raw_data_dir / \"te.translit.sampled.dev.tsv\"\n",
    "test_file = raw_data_dir / \"te.translit.sampled.test.tsv\"\n",
    "\n",
    "weighted_sample_file = proc_data_dir / \"weighted_sample.tsv\"\n",
    "max_sample_file = proc_data_dir / \"max_sample.tsv\"\n",
    "repeat_sample_file = proc_data_dir / \"repeat_sample.tsv\"\n",
    "\n",
    "weighted_dev_file = proc_data_dir / \"weighted_dev.tsv\"\n",
    "max_dev_file = proc_data_dir / \"max_dev.tsv\"\n",
    "repeat_dev_file = proc_data_dir / \"repeat_dev.tsv\"\n",
    "\n",
    "weighted_train_file = proc_data_dir / \"weighted_train.tsv\"\n",
    "max_train_file = proc_data_dir / \"max_train.tsv\"\n",
    "repeat_train_file = proc_data_dir / \"repeat_train.tsv\"\n",
    "\n",
    "weighted_test_file = proc_data_dir / \"weighted_test.tsv\"\n",
    "max_test_file = proc_data_dir / \"max_test.tsv\"\n",
    "repeat_test_file = proc_data_dir / \"repeat_test.tsv\"\n",
    "\n",
    "target_corpus_file =  proc_data_dir / \"target_corpus.txt\"\n",
    "source_corpus_file = proc_data_dir / \"source_corpus.txt\""
   ]
  },
  {
   "cell_type": "code",
   "execution_count": 4,
   "metadata": {},
   "outputs": [],
   "source": [
    "source_tokenizer, target_tokenizer = create_source_target_tokenizers(source_corpus_file,target_corpus_file, 128,128)"
   ]
  },
  {
   "cell_type": "code",
   "execution_count": 5,
   "metadata": {},
   "outputs": [
    {
     "data": {
      "text/plain": [
       "([1, 31, 10, 42, 14, 34, 54, 12, 51, 2],\n",
       " [1, 6, 4, 21, 55, 19, 44, 79, 71, 81, 2])"
      ]
     },
     "execution_count": 5,
     "metadata": {},
     "output_type": "execute_result"
    }
   ],
   "source": [
    "max_dataset = TransliterationDataset(max_sample_file,source_tokenizer, target_tokenizer)\n",
    "max_dataset[9]"
   ]
  },
  {
   "cell_type": "code",
   "execution_count": 6,
   "metadata": {},
   "outputs": [
    {
     "data": {
      "text/plain": [
       "([1, 31, 35, 32, 24, 2], [1, 6, 104, 86, 2], 0.6)"
      ]
     },
     "execution_count": 6,
     "metadata": {},
     "output_type": "execute_result"
    }
   ],
   "source": [
    "weighted_dataset = TransliterationDataset(weighted_sample_file,source_tokenizer, target_tokenizer)\n",
    "weighted_dataset[9]"
   ]
  },
  {
   "cell_type": "code",
   "execution_count": 7,
   "metadata": {},
   "outputs": [
    {
     "data": {
      "text/plain": [
       "([1, 31, 14, 32, 2], [1, 6, 4, 19, 4, 2])"
      ]
     },
     "execution_count": 7,
     "metadata": {},
     "output_type": "execute_result"
    }
   ],
   "source": [
    "repeat_dataset = TransliterationDataset(repeat_sample_file,source_tokenizer, target_tokenizer)\n",
    "repeat_dataset[9]"
   ]
  },
  {
   "cell_type": "code",
   "execution_count": 8,
   "metadata": {},
   "outputs": [
    {
     "data": {
      "text/plain": [
       "'అంగీకరించడం'"
      ]
     },
     "execution_count": 8,
     "metadata": {},
     "output_type": "execute_result"
    }
   ],
   "source": [
    "''.join([target_tokenizer.id_to_token(ids) for ids in max_dataset[7][1]][1:-1])"
   ]
  },
  {
   "cell_type": "code",
   "execution_count": 9,
   "metadata": {},
   "outputs": [
    {
     "data": {
      "text/plain": [
       "(tensor([[  1, 127,  34, 111,   2],\n",
       "         [  1,  31,  14,  32,   2],\n",
       "         [  1,  31,  14,   4,   2]]),\n",
       " tensor([[ 1,  6,  4, 28, 93, 66,  2],\n",
       "         [ 1,  6,  4, 19,  4,  2,  0],\n",
       "         [ 1,  6,  4, 19,  2,  0,  0]]),\n",
       " [5, 5, 5])"
      ]
     },
     "execution_count": 9,
     "metadata": {},
     "output_type": "execute_result"
    }
   ],
   "source": [
    "max_sample_loader = DataLoader(max_dataset, batch_size = 3, collate_fn=pad_collate, drop_last=False)\n",
    "max_sample_iter = iter(max_sample_loader)\n",
    "max_batch = next(max_sample_iter)\n",
    "max_batch"
   ]
  },
  {
   "cell_type": "code",
   "execution_count": 10,
   "metadata": {},
   "outputs": [
    {
     "data": {
      "text/plain": [
       "(tensor([[  1,  31,  14,   4,   2],\n",
       "         [  1,  32,  14,   4,   2],\n",
       "         [  1, 127,  32,   2,   0]]),\n",
       " tensor([[  1,   6,   4,  19,   2],\n",
       "         [  1,   6,   4,  19,   2],\n",
       "         [  1,   6, 104,   4,   2]]),\n",
       " [5, 5, 4],\n",
       " (0.33299999999999996, 0.25, 0.75))"
      ]
     },
     "execution_count": 10,
     "metadata": {},
     "output_type": "execute_result"
    }
   ],
   "source": [
    "weighted_sample_loader = DataLoader(weighted_dataset, batch_size = 3, collate_fn=pad_collate, drop_last=False)\n",
    "weighted_sample_iter = iter(weighted_sample_loader)\n",
    "weighted_batch = next(weighted_sample_iter)\n",
    "weighted_batch"
   ]
  },
  {
   "cell_type": "code",
   "execution_count": 11,
   "metadata": {},
   "outputs": [
    {
     "data": {
      "text/plain": [
       "(tensor([[  1, 127,  34, 111,   2],\n",
       "         [  1,  32,  14,   4,   2],\n",
       "         [  1, 127,  32,   2,   0]]),\n",
       " tensor([[  1,   6,   4,  28,  93,  66,   2],\n",
       "         [  1,   6,   4,  19,   2,   0,   0],\n",
       "         [  1,   6, 104,   4,   2,   0,   0]]),\n",
       " [5, 5, 4])"
      ]
     },
     "execution_count": 11,
     "metadata": {},
     "output_type": "execute_result"
    }
   ],
   "source": [
    "repeat_sample_loader = DataLoader(repeat_dataset, batch_size = 3, collate_fn=pad_collate, drop_last=False)\n",
    "repeat_sample_iter = iter(repeat_sample_loader)\n",
    "repeat_batch = next(repeat_sample_iter)\n",
    "repeat_batch"
   ]
  }
 ],
 "metadata": {
  "kernelspec": {
   "display_name": "Python 3",
   "language": "python",
   "name": "python3"
  },
  "language_info": {
   "codemirror_mode": {
    "name": "ipython",
    "version": 3
   },
   "file_extension": ".py",
   "mimetype": "text/x-python",
   "name": "python",
   "nbconvert_exporter": "python",
   "pygments_lexer": "ipython3",
   "version": "3.6.10"
  }
 },
 "nbformat": 4,
 "nbformat_minor": 4
}

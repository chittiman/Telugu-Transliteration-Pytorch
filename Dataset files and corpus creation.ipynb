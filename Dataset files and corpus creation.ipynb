{
 "cells": [
  {
   "source": [
    "# Creating differnet datasets using the raw data."
   ],
   "cell_type": "markdown",
   "metadata": {}
  },
  {
   "cell_type": "code",
   "execution_count": 1,
   "metadata": {},
   "outputs": [],
   "source": [
    "%load_ext autoreload\n",
    "%autoreload 2\n",
    "import pandas as pd\n",
    "from pathlib import Path\n",
    "from scripts.parser_utils import file_parser,write_repeat_files,write_weighted_files,write_max_files,create_repeat_data,\\\n",
    "                        create_weighted_data,create_max_data,create_max_weighted_and_repeated_tsv,normalize,create_corpus"
   ]
  },
  {
   "cell_type": "code",
   "execution_count": 2,
   "metadata": {},
   "outputs": [],
   "source": [
    "cur_dir = Path.cwd()\n",
    "data_dir = cur_dir / \"data\"\n",
    "raw_data_dir = data_dir / \"raw_data\"\n",
    "proc_data_dir = data_dir / \"processed_data\"\n",
    "\n",
    "sample_file = raw_data_dir / \"sample.tsv\"\n",
    "\n",
    "train_file = proc_data_dir / \"train_clean.tsv\"\n",
    "dev_file = raw_data_dir / \"te.translit.sampled.dev.tsv\"\n",
    "test_file = raw_data_dir / \"te.translit.sampled.test.tsv\"\n",
    "\n",
    "weighted_sample_file = proc_data_dir / \"weighted_sample.tsv\"\n",
    "max_sample_file = proc_data_dir / \"max_sample.tsv\"\n",
    "repeat_sample_file = proc_data_dir / \"repeat_sample.tsv\"\n",
    "\n",
    "weighted_dev_file = proc_data_dir / \"weighted_dev.tsv\"\n",
    "max_dev_file = proc_data_dir / \"max_dev.tsv\"\n",
    "repeat_dev_file = proc_data_dir / \"repeat_dev.tsv\"\n",
    "\n",
    "weighted_train_file = proc_data_dir / \"weighted_train.tsv\"\n",
    "max_train_file = proc_data_dir / \"max_train.tsv\"\n",
    "repeat_train_file = proc_data_dir / \"repeat_train.tsv\"\n",
    "\n",
    "weighted_test_file = proc_data_dir / \"weighted_test.tsv\"\n",
    "max_test_file = proc_data_dir / \"max_test.tsv\"\n",
    "repeat_test_file = proc_data_dir / \"repeat_test.tsv\"\n",
    "\n",
    "tgt_corpus_file =  proc_data_dir / \"target_corpus.txt\"\n",
    "src_corpus_file = proc_data_dir / \"source_corpus.txt\""
   ]
  },
  {
   "cell_type": "code",
   "execution_count": 3,
   "metadata": {},
   "outputs": [
    {
     "data": {
      "text/html": [
       "<div>\n",
       "<style scoped>\n",
       "    .dataframe tbody tr th:only-of-type {\n",
       "        vertical-align: middle;\n",
       "    }\n",
       "\n",
       "    .dataframe tbody tr th {\n",
       "        vertical-align: top;\n",
       "    }\n",
       "\n",
       "    .dataframe thead th {\n",
       "        text-align: right;\n",
       "    }\n",
       "</style>\n",
       "<table border=\"1\" class=\"dataframe\">\n",
       "  <thead>\n",
       "    <tr style=\"text-align: right;\">\n",
       "      <th></th>\n",
       "      <th>target</th>\n",
       "      <th>source</th>\n",
       "      <th>frequency</th>\n",
       "    </tr>\n",
       "  </thead>\n",
       "  <tbody>\n",
       "    <tr>\n",
       "      <th>0</th>\n",
       "      <td>అంక</td>\n",
       "      <td>amka</td>\n",
       "      <td>1</td>\n",
       "    </tr>\n",
       "    <tr>\n",
       "      <th>1</th>\n",
       "      <td>అంక</td>\n",
       "      <td>anka</td>\n",
       "      <td>3</td>\n",
       "    </tr>\n",
       "    <tr>\n",
       "      <th>2</th>\n",
       "      <td>అంకం</td>\n",
       "      <td>amkam</td>\n",
       "      <td>1</td>\n",
       "    </tr>\n",
       "    <tr>\n",
       "      <th>3</th>\n",
       "      <td>అంకం</td>\n",
       "      <td>ankam</td>\n",
       "      <td>2</td>\n",
       "    </tr>\n",
       "    <tr>\n",
       "      <th>4</th>\n",
       "      <td>అంగీకరించ</td>\n",
       "      <td>amgiikarimcha</td>\n",
       "      <td>1</td>\n",
       "    </tr>\n",
       "  </tbody>\n",
       "</table>\n",
       "</div>"
      ],
      "text/plain": [
       "      target         source  frequency\n",
       "0        అంక           amka          1\n",
       "1        అంక           anka          3\n",
       "2       అంకం          amkam          1\n",
       "3       అంకం          ankam          2\n",
       "4  అంగీకరించ  amgiikarimcha          1"
      ]
     },
     "execution_count": 3,
     "metadata": {},
     "output_type": "execute_result"
    }
   ],
   "source": [
    "df_sample= pd.read_csv(sample_file, sep='\\t',header = None , names=[\"target\",\"source\", \"frequency\"])\n",
    "df_sample.head()"
   ]
  },
  {
   "cell_type": "code",
   "execution_count": 4,
   "metadata": {},
   "outputs": [
    {
     "name": "stdout",
     "output_type": "stream",
     "text": [
      "['అంక', 'amka', '1']\n",
      "['అంక', 'anka', '3']\n",
      "['అంకం', 'amkam', '1']\n",
      "['అంకం', 'ankam', '2']\n",
      "['అంగీకరించ', 'amgiikarimcha', '1']\n",
      "['అంగీకరించ', 'angeekarincha', '2']\n",
      "['అంగీకరించడం', 'angeekarinchadam', '1']\n",
      "['అంగీకరించడం', 'angikarinchadam', '3']\n",
      "['అంగీకరించడానికి', 'angeekarinchadaniki', '2']\n",
      "['అంగీకరించడానికి', 'angikarinchadaniki', '1']\n",
      "['అంగీకరించని', 'angeekarinchani', '2']\n",
      "['అంగీకరించని', 'angikarinchani', '1']\n",
      "['అంగీకరించారు', 'angeekarinchaaru', '1']\n",
      "['అంగీకరించారు', 'angeekarincharu', '1']\n",
      "['అంగీకరించారు', 'angikarinchaaru', '2']\n",
      "['అంగీకరించింది', 'angeekarinchidi', '1']\n",
      "['అంగీకరించింది', 'angeekarinchindhi', '1']\n",
      "['అంగీకరించింది', 'angikarinchindi', '1']\n",
      "['అంటరాని', 'antaraani', '3']\n",
      "['అంతం', 'anatham', '1']\n",
      "['అంతం', 'antam', '1']\n",
      "['అంతం', 'antham', '1']\n",
      "['అంతము', 'antamu', '2']\n",
      "['అంతము', 'anthamu', '3']\n"
     ]
    }
   ],
   "source": [
    "with open(sample_file, 'r', encoding='utf-8') as f:\n",
    "    for line in f:\n",
    "        print (line.strip().split(\"\\t\"))"
   ]
  },
  {
   "cell_type": "code",
   "execution_count": 5,
   "metadata": {},
   "outputs": [
    {
     "data": {
      "text/plain": [
       "{'అంక': [('amka', 1), ('anka', 3)],\n",
       " 'అంకం': [('amkam', 1), ('ankam', 2)],\n",
       " 'అంగీకరించ': [('amgiikarimcha', 1), ('angeekarincha', 2)],\n",
       " 'అంగీకరించడం': [('angeekarinchadam', 1), ('angikarinchadam', 3)],\n",
       " 'అంగీకరించడానికి': [('angeekarinchadaniki', 2), ('angikarinchadaniki', 1)],\n",
       " 'అంగీకరించని': [('angeekarinchani', 2), ('angikarinchani', 1)],\n",
       " 'అంగీకరించారు': [('angeekarinchaaru', 1),\n",
       "  ('angeekarincharu', 1),\n",
       "  ('angikarinchaaru', 2)],\n",
       " 'అంగీకరించింది': [('angeekarinchidi', 1),\n",
       "  ('angeekarinchindhi', 1),\n",
       "  ('angikarinchindi', 1)],\n",
       " 'అంటరాని': [('antaraani', 3)],\n",
       " 'అంతం': [('anatham', 1), ('antam', 1), ('antham', 1)],\n",
       " 'అంతము': [('antamu', 2), ('anthamu', 3)]}"
      ]
     },
     "execution_count": 5,
     "metadata": {},
     "output_type": "execute_result"
    }
   ],
   "source": [
    "sample_dict = file_parser(sample_file)\n",
    "sample_dict"
   ]
  },
  {
   "cell_type": "code",
   "execution_count": 6,
   "metadata": {},
   "outputs": [
    {
     "data": {
      "text/plain": [
       "(0.25, 0.75)"
      ]
     },
     "execution_count": 6,
     "metadata": {},
     "output_type": "execute_result"
    }
   ],
   "source": [
    "normalize((1,3))"
   ]
  },
  {
   "cell_type": "code",
   "execution_count": 7,
   "metadata": {},
   "outputs": [
    {
     "data": {
      "text/plain": [
       "{'అంక': [('amka', 0.25), ('anka', 0.75)],\n",
       " 'అంకం': [('amkam', 0.333), ('ankam', 0.667)],\n",
       " 'అంగీకరించ': [('amgiikarimcha', 0.333), ('angeekarincha', 0.667)],\n",
       " 'అంగీకరించడం': [('angeekarinchadam', 0.25), ('angikarinchadam', 0.75)],\n",
       " 'అంగీకరించడానికి': [('angeekarinchadaniki', 0.667),\n",
       "  ('angikarinchadaniki', 0.333)],\n",
       " 'అంగీకరించని': [('angeekarinchani', 0.667), ('angikarinchani', 0.333)],\n",
       " 'అంగీకరించారు': [('angeekarinchaaru', 0.25),\n",
       "  ('angeekarincharu', 0.25),\n",
       "  ('angikarinchaaru', 0.5)],\n",
       " 'అంగీకరించింది': [('angeekarinchidi', 0.333),\n",
       "  ('angeekarinchindhi', 0.333),\n",
       "  ('angikarinchindi', 0.333)],\n",
       " 'అంటరాని': [('antaraani', 1.0)],\n",
       " 'అంతం': [('anatham', 0.333), ('antam', 0.333), ('antham', 0.333)],\n",
       " 'అంతము': [('antamu', 0.4), ('anthamu', 0.6)]}"
      ]
     },
     "execution_count": 7,
     "metadata": {},
     "output_type": "execute_result"
    }
   ],
   "source": [
    "weighted_sample_data = create_weighted_data(sample_dict)\n",
    "weighted_sample_data"
   ]
  },
  {
   "cell_type": "code",
   "execution_count": 8,
   "metadata": {},
   "outputs": [
    {
     "data": {
      "text/plain": [
       "{'అంక': 'anka',\n",
       " 'అంకం': 'ankam',\n",
       " 'అంగీకరించ': 'angeekarincha',\n",
       " 'అంగీకరించడం': 'angikarinchadam',\n",
       " 'అంగీకరించడానికి': 'angeekarinchadaniki',\n",
       " 'అంగీకరించని': 'angeekarinchani',\n",
       " 'అంగీకరించారు': 'angikarinchaaru',\n",
       " 'అంగీకరించింది': 'angeekarinchidi',\n",
       " 'అంటరాని': 'antaraani',\n",
       " 'అంతం': 'anatham',\n",
       " 'అంతము': 'anthamu'}"
      ]
     },
     "execution_count": 8,
     "metadata": {},
     "output_type": "execute_result"
    }
   ],
   "source": [
    "max_sample_data = create_max_data(sample_dict)\n",
    "max_sample_data"
   ]
  },
  {
   "cell_type": "code",
   "execution_count": 9,
   "metadata": {},
   "outputs": [
    {
     "data": {
      "text/plain": [
       "{'అంక': ['amka', 'anka', 'anka', 'anka'],\n",
       " 'అంకం': ['amkam', 'ankam', 'ankam'],\n",
       " 'అంగీకరించ': ['amgiikarimcha', 'angeekarincha', 'angeekarincha'],\n",
       " 'అంగీకరించడం': ['angeekarinchadam',\n",
       "  'angikarinchadam',\n",
       "  'angikarinchadam',\n",
       "  'angikarinchadam'],\n",
       " 'అంగీకరించడానికి': ['angeekarinchadaniki',\n",
       "  'angeekarinchadaniki',\n",
       "  'angikarinchadaniki'],\n",
       " 'అంగీకరించని': ['angeekarinchani', 'angeekarinchani', 'angikarinchani'],\n",
       " 'అంగీకరించారు': ['angeekarinchaaru',\n",
       "  'angeekarincharu',\n",
       "  'angikarinchaaru',\n",
       "  'angikarinchaaru'],\n",
       " 'అంగీకరించింది': ['angeekarinchidi', 'angeekarinchindhi', 'angikarinchindi'],\n",
       " 'అంటరాని': ['antaraani', 'antaraani', 'antaraani'],\n",
       " 'అంతం': ['anatham', 'antam', 'antham'],\n",
       " 'అంతము': ['antamu', 'antamu', 'anthamu', 'anthamu', 'anthamu']}"
      ]
     },
     "execution_count": 9,
     "metadata": {},
     "output_type": "execute_result"
    }
   ],
   "source": [
    "repeat_sample_data = create_repeat_data(sample_dict)\n",
    "repeat_sample_data"
   ]
  },
  {
   "cell_type": "code",
   "execution_count": 10,
   "metadata": {},
   "outputs": [
    {
     "name": "stdout",
     "output_type": "stream",
     "text": [
      "Wall time: 34.6 ms\n"
     ]
    }
   ],
   "source": [
    "%%time\n",
    "create_max_weighted_and_repeated_tsv(sample_file,max_sample_file,weighted_sample_file, repeat_sample_file)"
   ]
  },
  {
   "cell_type": "code",
   "execution_count": 11,
   "metadata": {},
   "outputs": [
    {
     "name": "stdout",
     "output_type": "stream",
     "text": [
      "Wall time: 1.71 s\n"
     ]
    }
   ],
   "source": [
    "%%time\n",
    "create_max_weighted_and_repeated_tsv(dev_file,max_dev_file,weighted_dev_file, repeat_dev_file)\n",
    "create_max_weighted_and_repeated_tsv(train_file,max_train_file,weighted_train_file, repeat_train_file)\n",
    "create_max_weighted_and_repeated_tsv(test_file,max_test_file,weighted_test_file, repeat_test_file)"
   ]
  },
  {
   "cell_type": "code",
   "execution_count": 12,
   "metadata": {},
   "outputs": [
    {
     "data": {
      "text/html": [
       "<div>\n",
       "<style scoped>\n",
       "    .dataframe tbody tr th:only-of-type {\n",
       "        vertical-align: middle;\n",
       "    }\n",
       "\n",
       "    .dataframe tbody tr th {\n",
       "        vertical-align: top;\n",
       "    }\n",
       "\n",
       "    .dataframe thead th {\n",
       "        text-align: right;\n",
       "    }\n",
       "</style>\n",
       "<table border=\"1\" class=\"dataframe\">\n",
       "  <thead>\n",
       "    <tr style=\"text-align: right;\">\n",
       "      <th></th>\n",
       "      <th>target</th>\n",
       "      <th>source</th>\n",
       "      <th>weights</th>\n",
       "    </tr>\n",
       "  </thead>\n",
       "  <tbody>\n",
       "    <tr>\n",
       "      <th>0</th>\n",
       "      <td>అంకిత</td>\n",
       "      <td>amkita</td>\n",
       "      <td>0.200</td>\n",
       "    </tr>\n",
       "    <tr>\n",
       "      <th>1</th>\n",
       "      <td>అంకిత</td>\n",
       "      <td>ankita</td>\n",
       "      <td>0.400</td>\n",
       "    </tr>\n",
       "    <tr>\n",
       "      <th>2</th>\n",
       "      <td>అంకిత</td>\n",
       "      <td>ankitha</td>\n",
       "      <td>0.400</td>\n",
       "    </tr>\n",
       "    <tr>\n",
       "      <th>3</th>\n",
       "      <td>అంకితం</td>\n",
       "      <td>ankitam</td>\n",
       "      <td>0.333</td>\n",
       "    </tr>\n",
       "    <tr>\n",
       "      <th>4</th>\n",
       "      <td>అంకితం</td>\n",
       "      <td>ankitham</td>\n",
       "      <td>0.667</td>\n",
       "    </tr>\n",
       "  </tbody>\n",
       "</table>\n",
       "</div>"
      ],
      "text/plain": [
       "   target    source  weights\n",
       "0   అంకిత    amkita    0.200\n",
       "1   అంకిత    ankita    0.400\n",
       "2   అంకిత   ankitha    0.400\n",
       "3  అంకితం   ankitam    0.333\n",
       "4  అంకితం  ankitham    0.667"
      ]
     },
     "execution_count": 12,
     "metadata": {},
     "output_type": "execute_result"
    }
   ],
   "source": [
    "df_weighted_train= pd.read_csv(weighted_train_file, sep='\\t',header = None , names=[\"target\",\"source\", \"weights\"])\n",
    "df_weighted_train.head()"
   ]
  },
  {
   "cell_type": "code",
   "execution_count": 14,
   "metadata": {},
   "outputs": [
    {
     "data": {
      "text/html": [
       "<div>\n",
       "<style scoped>\n",
       "    .dataframe tbody tr th:only-of-type {\n",
       "        vertical-align: middle;\n",
       "    }\n",
       "\n",
       "    .dataframe tbody tr th {\n",
       "        vertical-align: top;\n",
       "    }\n",
       "\n",
       "    .dataframe thead th {\n",
       "        text-align: right;\n",
       "    }\n",
       "</style>\n",
       "<table border=\"1\" class=\"dataframe\">\n",
       "  <thead>\n",
       "    <tr style=\"text-align: right;\">\n",
       "      <th></th>\n",
       "      <th>target</th>\n",
       "      <th>source</th>\n",
       "    </tr>\n",
       "  </thead>\n",
       "  <tbody>\n",
       "    <tr>\n",
       "      <th>0</th>\n",
       "      <td>అంకిత</td>\n",
       "      <td>amkita</td>\n",
       "    </tr>\n",
       "    <tr>\n",
       "      <th>1</th>\n",
       "      <td>అంకిత</td>\n",
       "      <td>ankita</td>\n",
       "    </tr>\n",
       "    <tr>\n",
       "      <th>2</th>\n",
       "      <td>అంకిత</td>\n",
       "      <td>ankita</td>\n",
       "    </tr>\n",
       "    <tr>\n",
       "      <th>3</th>\n",
       "      <td>అంకిత</td>\n",
       "      <td>ankitha</td>\n",
       "    </tr>\n",
       "    <tr>\n",
       "      <th>4</th>\n",
       "      <td>అంకిత</td>\n",
       "      <td>ankitha</td>\n",
       "    </tr>\n",
       "  </tbody>\n",
       "</table>\n",
       "</div>"
      ],
      "text/plain": [
       "  target   source\n",
       "0  అంకిత   amkita\n",
       "1  అంకిత   ankita\n",
       "2  అంకిత   ankita\n",
       "3  అంకిత  ankitha\n",
       "4  అంకిత  ankitha"
      ]
     },
     "execution_count": 14,
     "metadata": {},
     "output_type": "execute_result"
    }
   ],
   "source": [
    "df_repeat_train= pd.read_csv(repeat_train_file, sep='\\t',header = None , names=[\"target\",\"source\"])\n",
    "df_repeat_train.head()"
   ]
  },
  {
   "cell_type": "code",
   "execution_count": 15,
   "metadata": {},
   "outputs": [
    {
     "data": {
      "text/html": [
       "<div>\n",
       "<style scoped>\n",
       "    .dataframe tbody tr th:only-of-type {\n",
       "        vertical-align: middle;\n",
       "    }\n",
       "\n",
       "    .dataframe tbody tr th {\n",
       "        vertical-align: top;\n",
       "    }\n",
       "\n",
       "    .dataframe thead th {\n",
       "        text-align: right;\n",
       "    }\n",
       "</style>\n",
       "<table border=\"1\" class=\"dataframe\">\n",
       "  <thead>\n",
       "    <tr style=\"text-align: right;\">\n",
       "      <th></th>\n",
       "      <th>target</th>\n",
       "      <th>source</th>\n",
       "    </tr>\n",
       "  </thead>\n",
       "  <tbody>\n",
       "    <tr>\n",
       "      <th>0</th>\n",
       "      <td>అంకిత</td>\n",
       "      <td>ankita</td>\n",
       "    </tr>\n",
       "    <tr>\n",
       "      <th>1</th>\n",
       "      <td>అంకితం</td>\n",
       "      <td>ankitham</td>\n",
       "    </tr>\n",
       "    <tr>\n",
       "      <th>2</th>\n",
       "      <td>అంకితభావం</td>\n",
       "      <td>ankithabhavam</td>\n",
       "    </tr>\n",
       "    <tr>\n",
       "      <th>3</th>\n",
       "      <td>అంకితమిచ్చాడు</td>\n",
       "      <td>ankitamichhaadu</td>\n",
       "    </tr>\n",
       "    <tr>\n",
       "      <th>4</th>\n",
       "      <td>అంకితమిచ్చారు</td>\n",
       "      <td>amkithamichaaru</td>\n",
       "    </tr>\n",
       "  </tbody>\n",
       "</table>\n",
       "</div>"
      ],
      "text/plain": [
       "          target           source\n",
       "0          అంకిత           ankita\n",
       "1         అంకితం         ankitham\n",
       "2      అంకితభావం    ankithabhavam\n",
       "3  అంకితమిచ్చాడు  ankitamichhaadu\n",
       "4  అంకితమిచ్చారు  amkithamichaaru"
      ]
     },
     "execution_count": 15,
     "metadata": {},
     "output_type": "execute_result"
    }
   ],
   "source": [
    "df_max_train= pd.read_csv(max_train_file, sep='\\t',header = None , names=[\"target\",\"source\"])\n",
    "df_max_train.head()"
   ]
  },
  {
   "cell_type": "code",
   "execution_count": 16,
   "metadata": {},
   "outputs": [
    {
     "data": {
      "text/html": [
       "<div>\n",
       "<style scoped>\n",
       "    .dataframe tbody tr th:only-of-type {\n",
       "        vertical-align: middle;\n",
       "    }\n",
       "\n",
       "    .dataframe tbody tr th {\n",
       "        vertical-align: top;\n",
       "    }\n",
       "\n",
       "    .dataframe thead th {\n",
       "        text-align: right;\n",
       "    }\n",
       "</style>\n",
       "<table border=\"1\" class=\"dataframe\">\n",
       "  <thead>\n",
       "    <tr style=\"text-align: right;\">\n",
       "      <th></th>\n",
       "      <th>target</th>\n",
       "      <th>source</th>\n",
       "      <th>frequency</th>\n",
       "    </tr>\n",
       "  </thead>\n",
       "  <tbody>\n",
       "    <tr>\n",
       "      <th>0</th>\n",
       "      <td>అంకిత</td>\n",
       "      <td>amkita</td>\n",
       "      <td>1</td>\n",
       "    </tr>\n",
       "    <tr>\n",
       "      <th>1</th>\n",
       "      <td>అంకిత</td>\n",
       "      <td>ankita</td>\n",
       "      <td>2</td>\n",
       "    </tr>\n",
       "    <tr>\n",
       "      <th>2</th>\n",
       "      <td>అంకిత</td>\n",
       "      <td>ankitha</td>\n",
       "      <td>2</td>\n",
       "    </tr>\n",
       "    <tr>\n",
       "      <th>3</th>\n",
       "      <td>అంకితం</td>\n",
       "      <td>ankitam</td>\n",
       "      <td>1</td>\n",
       "    </tr>\n",
       "    <tr>\n",
       "      <th>4</th>\n",
       "      <td>అంకితం</td>\n",
       "      <td>ankitham</td>\n",
       "      <td>2</td>\n",
       "    </tr>\n",
       "  </tbody>\n",
       "</table>\n",
       "</div>"
      ],
      "text/plain": [
       "   target    source  frequency\n",
       "0   అంకిత    amkita          1\n",
       "1   అంకిత    ankita          2\n",
       "2   అంకిత   ankitha          2\n",
       "3  అంకితం   ankitam          1\n",
       "4  అంకితం  ankitham          2"
      ]
     },
     "execution_count": 16,
     "metadata": {},
     "output_type": "execute_result"
    }
   ],
   "source": [
    "df_train= pd.read_csv(train_file, sep='\\t',header = None , names=[\"target\",\"source\", \"frequency\"])\n",
    "df_train.head()"
   ]
  },
  {
   "cell_type": "code",
   "execution_count": 27,
   "metadata": {},
   "outputs": [],
   "source": [
    "create_corpus(train_file,src_corpus_file,tgt_corpus_file)"
   ]
  }
 ],
 "metadata": {
  "kernelspec": {
   "display_name": "Python 3",
   "language": "python",
   "name": "python3"
  },
  "language_info": {
   "codemirror_mode": {
    "name": "ipython",
    "version": 3
   },
   "file_extension": ".py",
   "mimetype": "text/x-python",
   "name": "python",
   "nbconvert_exporter": "python",
   "pygments_lexer": "ipython3",
   "version": "3.6.10-final"
  }
 },
 "nbformat": 4,
 "nbformat_minor": 4
}
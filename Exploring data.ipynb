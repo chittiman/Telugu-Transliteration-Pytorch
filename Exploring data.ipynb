{
 "cells": [
  {
   "source": [
    "# Exploring characters in datasets and how characters interact to form a word in target language"
   ],
   "cell_type": "markdown",
   "metadata": {}
  },
  {
   "cell_type": "code",
   "execution_count": 1,
   "metadata": {},
   "outputs": [],
   "source": [
    "import pandas as pd\n",
    "from pathlib import Path\n",
    "import matplotlib.pyplot as plt\n",
    "import seaborn as sns"
   ]
  },
  {
   "cell_type": "code",
   "execution_count": 2,
   "metadata": {},
   "outputs": [],
   "source": [
    "cur_dir = Path.cwd()\n",
    "data_dir = cur_dir / \"data\"\n",
    "raw_data_dir = data_dir / \"raw_data\"\n",
    "proc_data_dir = data_dir / \"processed_data\"\n",
    "\n",
    "sample_file = raw_data_dir / \"sample.tsv\"\n",
    "dev_file = raw_data_dir / \"te.translit.sampled.dev.tsv\"\n",
    "train_file = proc_data_dir / \"train_clean.tsv\"\n",
    "test_file = raw_data_dir / \"te.translit.sampled.test.tsv\""
   ]
  },
  {
   "cell_type": "code",
   "execution_count": 3,
   "metadata": {},
   "outputs": [],
   "source": [
    "names=[\"target\",\"source\", \"frequency\"]\n",
    "types = [\"string\",\"string\",\"int8\"]\n",
    "col_types = dict(zip(names,types))"
   ]
  },
  {
   "cell_type": "code",
   "execution_count": 4,
   "metadata": {},
   "outputs": [
    {
     "data": {
      "text/html": [
       "<div>\n",
       "<style scoped>\n",
       "    .dataframe tbody tr th:only-of-type {\n",
       "        vertical-align: middle;\n",
       "    }\n",
       "\n",
       "    .dataframe tbody tr th {\n",
       "        vertical-align: top;\n",
       "    }\n",
       "\n",
       "    .dataframe thead th {\n",
       "        text-align: right;\n",
       "    }\n",
       "</style>\n",
       "<table border=\"1\" class=\"dataframe\">\n",
       "  <thead>\n",
       "    <tr style=\"text-align: right;\">\n",
       "      <th></th>\n",
       "      <th>target</th>\n",
       "      <th>source</th>\n",
       "      <th>frequency</th>\n",
       "    </tr>\n",
       "  </thead>\n",
       "  <tbody>\n",
       "    <tr>\n",
       "      <th>0</th>\n",
       "      <td>అంక</td>\n",
       "      <td>amka</td>\n",
       "      <td>1</td>\n",
       "    </tr>\n",
       "    <tr>\n",
       "      <th>1</th>\n",
       "      <td>అంక</td>\n",
       "      <td>anka</td>\n",
       "      <td>3</td>\n",
       "    </tr>\n",
       "    <tr>\n",
       "      <th>2</th>\n",
       "      <td>అంకం</td>\n",
       "      <td>amkam</td>\n",
       "      <td>1</td>\n",
       "    </tr>\n",
       "    <tr>\n",
       "      <th>3</th>\n",
       "      <td>అంకం</td>\n",
       "      <td>ankam</td>\n",
       "      <td>2</td>\n",
       "    </tr>\n",
       "    <tr>\n",
       "      <th>4</th>\n",
       "      <td>అంగీకరించ</td>\n",
       "      <td>amgiikarimcha</td>\n",
       "      <td>1</td>\n",
       "    </tr>\n",
       "  </tbody>\n",
       "</table>\n",
       "</div>"
      ],
      "text/plain": [
       "      target         source  frequency\n",
       "0        అంక           amka          1\n",
       "1        అంక           anka          3\n",
       "2       అంకం          amkam          1\n",
       "3       అంకం          ankam          2\n",
       "4  అంగీకరించ  amgiikarimcha          1"
      ]
     },
     "execution_count": 4,
     "metadata": {},
     "output_type": "execute_result"
    }
   ],
   "source": [
    "df_train= pd.read_csv(train_file, sep='\\t',header = None , names=names)\n",
    "df_dev= pd.read_csv(dev_file, sep='\\t',header = None , names=names)\n",
    "df_test= pd.read_csv(test_file, sep='\\t',header = None , names=names)\n",
    "df_dev.head()"
   ]
  },
  {
   "cell_type": "code",
   "execution_count": 9,
   "metadata": {},
   "outputs": [
    {
     "data": {
      "text/plain": [
       "9     6551\n",
       "8     6545\n",
       "10    6389\n",
       "7     5981\n",
       "11    5726\n",
       "6     4993\n",
       "12    4869\n",
       "13    3775\n",
       "5     3344\n",
       "14    2839\n",
       "15    1978\n",
       "4     1796\n",
       "16    1262\n",
       "17     823\n",
       "3      558\n",
       "18     490\n",
       "19     271\n",
       "20     144\n",
       "2       86\n",
       "21      64\n",
       "22      34\n",
       "23      14\n",
       "24      10\n",
       "25       5\n",
       "1        2\n",
       "Name: source, dtype: int64"
      ]
     },
     "execution_count": 9,
     "metadata": {},
     "output_type": "execute_result"
    }
   ],
   "source": [
    "df_train.source.str.len().value_counts()"
   ]
  },
  {
   "cell_type": "code",
   "execution_count": 5,
   "metadata": {},
   "outputs": [
    {
     "data": {
      "text/plain": [
       "8     8555\n",
       "6     8448\n",
       "7     7914\n",
       "9     6758\n",
       "10    5419\n",
       "5     5170\n",
       "4     4257\n",
       "11    3945\n",
       "12    2913\n",
       "13    1748\n",
       "3     1138\n",
       "14     975\n",
       "15     532\n",
       "2      280\n",
       "16     266\n",
       "17     145\n",
       "18      56\n",
       "19      17\n",
       "20       9\n",
       "1        4\n",
       "Name: target, dtype: int64"
      ]
     },
     "execution_count": 5,
     "metadata": {},
     "output_type": "execute_result"
    }
   ],
   "source": [
    "df_train.target.str.len().value_counts()"
   ]
  },
  {
   "cell_type": "code",
   "execution_count": 6,
   "metadata": {},
   "outputs": [
    {
     "data": {
      "text/html": [
       "<div>\n",
       "<style scoped>\n",
       "    .dataframe tbody tr th:only-of-type {\n",
       "        vertical-align: middle;\n",
       "    }\n",
       "\n",
       "    .dataframe tbody tr th {\n",
       "        vertical-align: top;\n",
       "    }\n",
       "\n",
       "    .dataframe thead th {\n",
       "        text-align: right;\n",
       "    }\n",
       "</style>\n",
       "<table border=\"1\" class=\"dataframe\">\n",
       "  <thead>\n",
       "    <tr style=\"text-align: right;\">\n",
       "      <th></th>\n",
       "      <th>target</th>\n",
       "      <th>source</th>\n",
       "      <th>frequency</th>\n",
       "    </tr>\n",
       "  </thead>\n",
       "  <tbody>\n",
       "    <tr>\n",
       "      <th>8285</th>\n",
       "      <td>ఐ</td>\n",
       "      <td>ai</td>\n",
       "      <td>1</td>\n",
       "    </tr>\n",
       "    <tr>\n",
       "      <th>8286</th>\n",
       "      <td>ఐ</td>\n",
       "      <td>eye</td>\n",
       "      <td>2</td>\n",
       "    </tr>\n",
       "    <tr>\n",
       "      <th>23476</th>\n",
       "      <td>ద</td>\n",
       "      <td>da</td>\n",
       "      <td>2</td>\n",
       "    </tr>\n",
       "    <tr>\n",
       "      <th>23477</th>\n",
       "      <td>ద</td>\n",
       "      <td>the</td>\n",
       "      <td>2</td>\n",
       "    </tr>\n",
       "  </tbody>\n",
       "</table>\n",
       "</div>"
      ],
      "text/plain": [
       "      target source  frequency\n",
       "8285       ఐ     ai          1\n",
       "8286       ఐ    eye          2\n",
       "23476      ద     da          2\n",
       "23477      ద    the          2"
      ]
     },
     "execution_count": 6,
     "metadata": {},
     "output_type": "execute_result"
    }
   ],
   "source": [
    "#Having a look at extreme cases\n",
    "df_train[df_train.target.str.len() == 1]"
   ]
  },
  {
   "cell_type": "code",
   "execution_count": 10,
   "metadata": {},
   "outputs": [
    {
     "data": {
      "text/plain": [
       "8     701\n",
       "9     697\n",
       "7     658\n",
       "10    627\n",
       "11    542\n",
       "6     531\n",
       "12    427\n",
       "5     393\n",
       "13    304\n",
       "14    218\n",
       "4     195\n",
       "15    152\n",
       "16     73\n",
       "17     58\n",
       "3      48\n",
       "18     31\n",
       "19     16\n",
       "2       8\n",
       "1       2\n",
       "20      1\n",
       "21      1\n",
       "Name: source, dtype: int64"
      ]
     },
     "execution_count": 10,
     "metadata": {},
     "output_type": "execute_result"
    }
   ],
   "source": [
    "df_dev.source.str.len().value_counts()"
   ]
  },
  {
   "cell_type": "code",
   "execution_count": 11,
   "metadata": {},
   "outputs": [
    {
     "data": {
      "text/plain": [
       "6     952\n",
       "7     921\n",
       "8     837\n",
       "5     634\n",
       "9     573\n",
       "10    460\n",
       "4     443\n",
       "11    311\n",
       "12    185\n",
       "3     167\n",
       "13    120\n",
       "14     29\n",
       "15     19\n",
       "16     15\n",
       "2      12\n",
       "19      3\n",
       "1       2\n",
       "Name: target, dtype: int64"
      ]
     },
     "execution_count": 11,
     "metadata": {},
     "output_type": "execute_result"
    }
   ],
   "source": [
    "df_dev.target.str.len().value_counts()"
   ]
  },
  {
   "cell_type": "code",
   "execution_count": 12,
   "metadata": {},
   "outputs": [
    {
     "data": {
      "text/plain": [
       "9     687\n",
       "8     683\n",
       "7     634\n",
       "10    630\n",
       "6     565\n",
       "11    540\n",
       "12    444\n",
       "5     391\n",
       "13    319\n",
       "14    221\n",
       "4     202\n",
       "15    163\n",
       "16     71\n",
       "17     63\n",
       "3      57\n",
       "18     29\n",
       "19     22\n",
       "20      8\n",
       "2       8\n",
       "21      6\n",
       "23      2\n",
       "1       1\n",
       "22      1\n",
       "Name: source, dtype: int64"
      ]
     },
     "execution_count": 12,
     "metadata": {},
     "output_type": "execute_result"
    }
   ],
   "source": [
    "df_test.source.str.len().value_counts()"
   ]
  },
  {
   "cell_type": "code",
   "execution_count": 13,
   "metadata": {},
   "outputs": [
    {
     "data": {
      "text/plain": [
       "6     1050\n",
       "7      897\n",
       "8      789\n",
       "9      630\n",
       "5      581\n",
       "4      496\n",
       "10     461\n",
       "11     324\n",
       "12     184\n",
       "3      102\n",
       "13      90\n",
       "14      62\n",
       "15      48\n",
       "2       13\n",
       "17       8\n",
       "16       6\n",
       "1        5\n",
       "18       1\n",
       "Name: target, dtype: int64"
      ]
     },
     "execution_count": 13,
     "metadata": {},
     "output_type": "execute_result"
    }
   ],
   "source": [
    "df_test.target.str.len().value_counts()"
   ]
  },
  {
   "cell_type": "code",
   "execution_count": 14,
   "metadata": {},
   "outputs": [
    {
     "data": {
      "image/png": "[encoded data removed]",
      "text/plain": [
       "<Figure size 432x288 with 1 Axes>"
      ]
     },
     "metadata": {
      "needs_background": "light"
     },
     "output_type": "display_data"
    }
   ],
   "source": [
    "#Plotting the distribution of number of charcters in source and target words\n",
    "fig, ax = plt.subplots()\n",
    "sns.kdeplot(df_train.source.str.len(), ax=ax)\n",
    "sns.kdeplot(df_train.target.str.len(), ax=ax)\n",
    "plt.show()"
   ]
  },
  {
   "cell_type": "code",
   "execution_count": 15,
   "metadata": {},
   "outputs": [
    {
     "data": {
      "text/html": [
       "<div>\n",
       "<style scoped>\n",
       "    .dataframe tbody tr th:only-of-type {\n",
       "        vertical-align: middle;\n",
       "    }\n",
       "\n",
       "    .dataframe tbody tr th {\n",
       "        vertical-align: top;\n",
       "    }\n",
       "\n",
       "    .dataframe thead th {\n",
       "        text-align: right;\n",
       "    }\n",
       "</style>\n",
       "<table border=\"1\" class=\"dataframe\">\n",
       "  <thead>\n",
       "    <tr style=\"text-align: right;\">\n",
       "      <th></th>\n",
       "      <th>target</th>\n",
       "      <th>source</th>\n",
       "      <th>frequency</th>\n",
       "    </tr>\n",
       "  </thead>\n",
       "  <tbody>\n",
       "    <tr>\n",
       "      <th>5673</th>\n",
       "      <td>హైస్కూలు</td>\n",
       "      <td>haiskoolu</td>\n",
       "      <td>1</td>\n",
       "    </tr>\n",
       "    <tr>\n",
       "      <th>5674</th>\n",
       "      <td>హైస్కూలు</td>\n",
       "      <td>haiskulu</td>\n",
       "      <td>1</td>\n",
       "    </tr>\n",
       "    <tr>\n",
       "      <th>5675</th>\n",
       "      <td>హైస్కూలు</td>\n",
       "      <td>highschool</td>\n",
       "      <td>1</td>\n",
       "    </tr>\n",
       "    <tr>\n",
       "      <th>5676</th>\n",
       "      <td>హైస్కూలు</td>\n",
       "      <td>highschoolu</td>\n",
       "      <td>1</td>\n",
       "    </tr>\n",
       "    <tr>\n",
       "      <th>5677</th>\n",
       "      <td>హోమియో</td>\n",
       "      <td>heuumiyoo</td>\n",
       "      <td>1</td>\n",
       "    </tr>\n",
       "    <tr>\n",
       "      <th>5678</th>\n",
       "      <td>హోమియో</td>\n",
       "      <td>hoemiyoe</td>\n",
       "      <td>1</td>\n",
       "    </tr>\n",
       "    <tr>\n",
       "      <th>5679</th>\n",
       "      <td>హోమియో</td>\n",
       "      <td>homeyo</td>\n",
       "      <td>1</td>\n",
       "    </tr>\n",
       "    <tr>\n",
       "      <th>5680</th>\n",
       "      <td>హోమేరిక్</td>\n",
       "      <td>homaric</td>\n",
       "      <td>1</td>\n",
       "    </tr>\n",
       "    <tr>\n",
       "      <th>5681</th>\n",
       "      <td>హోమేరిక్</td>\n",
       "      <td>homeric</td>\n",
       "      <td>1</td>\n",
       "    </tr>\n",
       "    <tr>\n",
       "      <th>5682</th>\n",
       "      <td>హోమేరిక్</td>\n",
       "      <td>homerik</td>\n",
       "      <td>1</td>\n",
       "    </tr>\n",
       "  </tbody>\n",
       "</table>\n",
       "</div>"
      ],
      "text/plain": [
       "        target       source  frequency\n",
       "5673  హైస్కూలు    haiskoolu          1\n",
       "5674  హైస్కూలు     haiskulu          1\n",
       "5675  హైస్కూలు   highschool          1\n",
       "5676  హైస్కూలు  highschoolu          1\n",
       "5677    హోమియో    heuumiyoo          1\n",
       "5678    హోమియో     hoemiyoe          1\n",
       "5679    హోమియో       homeyo          1\n",
       "5680  హోమేరిక్      homaric          1\n",
       "5681  హోమేరిక్      homeric          1\n",
       "5682  హోమేరిక్      homerik          1"
      ]
     },
     "execution_count": 15,
     "metadata": {},
     "output_type": "execute_result"
    }
   ],
   "source": [
    "df_dev.tail(10)"
   ]
  },
  {
   "cell_type": "code",
   "execution_count": 17,
   "metadata": {},
   "outputs": [
    {
     "name": "stdout",
     "output_type": "stream",
     "text": [
      "హైస్కూలు ['హ', 'ై', 'స', '్', 'క', 'ూ', 'ల', 'ు']\n"
     ]
    }
   ],
   "source": [
    "text = df_dev.target[5675]\n",
    "print(text, list(text))"
   ]
  },
  {
   "cell_type": "code",
   "execution_count": 18,
   "metadata": {},
   "outputs": [
    {
     "name": "stdout",
     "output_type": "stream",
     "text": [
      "['హ']  -->  హ\n",
      "['హ', 'ై']  -->  హై\n",
      "['హ', 'ై', 'స']  -->  హైస\n",
      "['హ', 'ై', 'స', '్']  -->  హైస్\n",
      "['హ', 'ై', 'స', '్', 'క']  -->  హైస్క\n",
      "['హ', 'ై', 'స', '్', 'క', 'ూ']  -->  హైస్కూ\n",
      "['హ', 'ై', 'స', '్', 'క', 'ూ', 'ల']  -->  హైస్కూల\n",
      "['హ', 'ై', 'స', '్', 'క', 'ూ', 'ల', 'ు']  -->  హైస్కూలు\n"
     ]
    }
   ],
   "source": [
    "#Checking how the letters combine to form a word in target language\n",
    "for i in range(1,len(text)+1):\n",
    "    print(str(list(text[:i])) + \"  -->  \" + ''.join(list(text[:i])))"
   ]
  }
 ],
 "metadata": {
  "kernelspec": {
   "display_name": "Python 3",
   "language": "python",
   "name": "python3"
  },
  "language_info": {
   "codemirror_mode": {
    "name": "ipython",
    "version": 3
   },
   "file_extension": ".py",
   "mimetype": "text/x-python",
   "name": "python",
   "nbconvert_exporter": "python",
   "pygments_lexer": "ipython3",
   "version": "3.6.10-final"
  }
 },
 "nbformat": 4,
 "nbformat_minor": 4
}
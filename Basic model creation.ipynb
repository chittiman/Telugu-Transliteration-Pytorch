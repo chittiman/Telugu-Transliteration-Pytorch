{
 "cells": [
  {
   "cell_type": "code",
   "execution_count": 17,
   "metadata": {},
   "outputs": [
    {
     "name": "stdout",
     "output_type": "stream",
     "text": [
      "The autoreload extension is already loaded. To reload it, use:\n",
      "  %reload_ext autoreload\n"
     ]
    }
   ],
   "source": [
    "%load_ext autoreload\n",
    "%autoreload 2\n",
    "import torch\n",
    "from torch.utils.data import Dataset,DataLoader\n",
    "from pathlib import Path\n",
    "\n",
    "from scripts.transliteration_tokenizers import create_source_target_tokenizers\n",
    "from scripts.data_utils import TransliterationDataset,pad_collate\n",
    "from scripts.models import Simple_seq2seq,Attention_seq2seq\n",
    "#from scripts.attention_seq2seq import Attention_seq2seq\n",
    "from scripts.train_utils import masked_loss, masked_accuracy\n",
    "\n",
    "use_cuda = torch.cuda.is_available()\n",
    "device = torch.device(\"cuda\" if use_cuda else \"cpu\")"
   ]
  },
  {
   "cell_type": "code",
   "execution_count": 2,
   "metadata": {},
   "outputs": [],
   "source": [
    "cur_dir = Path.cwd()\n",
    "data_dir = cur_dir / \"data\"\n",
    "raw_data_dir = data_dir / \"raw_data\"\n",
    "proc_data_dir = data_dir / \"processed_data\"\n",
    "\n",
    "sample_file = raw_data_dir / \"sample.tsv\"\n",
    "\n",
    "train_file = proc_data_dir / \"train_clean.tsv\"\n",
    "dev_file = raw_data_dir / \"te.translit.sampled.dev.tsv\"\n",
    "test_file = raw_data_dir / \"te.translit.sampled.test.tsv\"\n",
    "\n",
    "weighted_sample_file = proc_data_dir / \"weighted_sample.tsv\"\n",
    "max_sample_file = proc_data_dir / \"max_sample.tsv\"\n",
    "repeat_sample_file = proc_data_dir / \"repeat_sample.tsv\"\n",
    "\n",
    "weighted_dev_file = proc_data_dir / \"weighted_dev.tsv\"\n",
    "max_dev_file = proc_data_dir / \"max_dev.tsv\"\n",
    "repeat_dev_file = proc_data_dir / \"repeat_dev.tsv\"\n",
    "\n",
    "weighted_train_file = proc_data_dir / \"weighted_train.tsv\"\n",
    "max_train_file = proc_data_dir / \"max_train.tsv\"\n",
    "repeat_train_file = proc_data_dir / \"repeat_train.tsv\"\n",
    "\n",
    "weighted_test_file = proc_data_dir / \"weighted_test.tsv\"\n",
    "max_test_file = proc_data_dir / \"max_test.tsv\"\n",
    "repeat_test_file = proc_data_dir / \"repeat_test.tsv\"\n",
    "\n",
    "target_corpus_file =  proc_data_dir / \"target_corpus.txt\"\n",
    "source_corpus_file = proc_data_dir / \"source_corpus.txt\""
   ]
  },
  {
   "cell_type": "code",
   "execution_count": 3,
   "metadata": {},
   "outputs": [],
   "source": [
    "source_tokenizer, target_tokenizer = create_source_target_tokenizers(source_corpus_file,target_corpus_file, 128,128)\n",
    "pad_id = target_tokenizer.padding['pad_id']\n",
    "model = Simple_seq2seq(64, 128,source_tokenizer, target_tokenizer)"
   ]
  },
  {
   "cell_type": "code",
   "execution_count": 4,
   "metadata": {},
   "outputs": [
    {
     "data": {
      "text/plain": [
       "(tensor([[ 1, 31, 10, 55, 34, 54, 81,  2],\n",
       "         [ 1, 31, 35, 32, 24,  2,  0,  0],\n",
       "         [ 1, 31, 69, 32,  2,  0,  0,  0]]),\n",
       " tensor([[  1,   6,   4,  21,  55,  19,  44,  79,  92,   2],\n",
       "         [  1,   6, 104,  86,   2,   0,   0,   0,   0,   0],\n",
       "         [  1,   6, 104,   4,   2,   0,   0,   0,   0,   0]]),\n",
       " [8, 6, 5])"
      ]
     },
     "execution_count": 4,
     "metadata": {},
     "output_type": "execute_result"
    }
   ],
   "source": [
    "max_dataset = TransliterationDataset(max_sample_file,source_tokenizer, target_tokenizer)\n",
    "max_sample_loader = DataLoader(max_dataset, batch_size = 3, collate_fn=pad_collate, drop_last=False)\n",
    "max_sample_iter = iter(max_sample_loader)\n",
    "next(max_sample_iter)\n",
    "max_batch = next(max_sample_iter)\n",
    "max_batch"
   ]
  },
  {
   "cell_type": "code",
   "execution_count": 5,
   "metadata": {},
   "outputs": [
    {
     "data": {
      "text/plain": [
       "['angikarinchaaru', 'anthamu', 'anatham']"
      ]
     },
     "execution_count": 5,
     "metadata": {},
     "output_type": "execute_result"
    }
   ],
   "source": [
    "[\"\".join(word.split()) for word in source_tokenizer.decode_batch(max_batch[0].tolist())]"
   ]
  },
  {
   "cell_type": "code",
   "execution_count": 6,
   "metadata": {},
   "outputs": [
    {
     "data": {
      "text/plain": [
       "['అంగీకరించారు', 'అంతము', 'అంతం']"
      ]
     },
     "execution_count": 6,
     "metadata": {},
     "output_type": "execute_result"
    }
   ],
   "source": [
    "[\"\".join(word.split()) for word in target_tokenizer.decode_batch(max_batch[1].tolist())]"
   ]
  },
  {
   "cell_type": "code",
   "execution_count": 7,
   "metadata": {},
   "outputs": [
    {
     "name": "stdout",
     "output_type": "stream",
     "text": [
      "torch.Size([3, 8]) torch.Size([3, 10]) 3 torch.Size([3, 9, 128])\n"
     ]
    }
   ],
   "source": [
    "max_out = model(max_batch)\n",
    "print(max_batch[0].shape, max_batch[1].shape,len(max_batch[2]) ,max_out.shape)"
   ]
  },
  {
   "cell_type": "code",
   "execution_count": 8,
   "metadata": {},
   "outputs": [
    {
     "data": {
      "text/plain": [
       "['ైద్ేనికిలిలిఫుంది', 'సంద్లికుగసుసుసుసు', 'ైద్లికుచేచేచేచేసు']"
      ]
     },
     "execution_count": 8,
     "metadata": {},
     "output_type": "execute_result"
    }
   ],
   "source": [
    "[\"\".join(word.split()) for word in target_tokenizer.decode_batch(torch.argmax(max_out, dim = -1).tolist())]"
   ]
  },
  {
   "cell_type": "code",
   "execution_count": 9,
   "metadata": {},
   "outputs": [
    {
     "data": {
      "text/plain": [
       "(tensor(4.8207, grad_fn=<NllLossBackward>), tensor(0.))"
      ]
     },
     "execution_count": 9,
     "metadata": {},
     "output_type": "execute_result"
    }
   ],
   "source": [
    "masked_loss(max_out,max_batch[1], pad_id ), masked_accuracy(max_out,max_batch[1], pad_id )"
   ]
  },
  {
   "cell_type": "code",
   "execution_count": 10,
   "metadata": {},
   "outputs": [],
   "source": [
    "source_tokenizer, target_tokenizer = create_source_target_tokenizers(source_corpus_file,target_corpus_file, 128,128)\n",
    "pad_id = target_tokenizer.padding['pad_id']\n",
    "model = Attention_seq2seq(64, 128,source_tokenizer, target_tokenizer)"
   ]
  },
  {
   "cell_type": "code",
   "execution_count": 11,
   "metadata": {},
   "outputs": [
    {
     "data": {
      "text/plain": [
       "(tensor([[ 1, 31, 10, 55, 34, 54, 81,  2],\n",
       "         [ 1, 31, 35, 32, 24,  2,  0,  0],\n",
       "         [ 1, 31, 69, 32,  2,  0,  0,  0]]),\n",
       " tensor([[  1,   6,   4,  21,  55,  19,  44,  79,  92,   2],\n",
       "         [  1,   6, 104,  86,   2,   0,   0,   0,   0,   0],\n",
       "         [  1,   6, 104,   4,   2,   0,   0,   0,   0,   0]]),\n",
       " [8, 6, 5])"
      ]
     },
     "execution_count": 11,
     "metadata": {},
     "output_type": "execute_result"
    }
   ],
   "source": [
    "max_dataset = TransliterationDataset(max_sample_file,source_tokenizer, target_tokenizer)\n",
    "max_sample_loader = DataLoader(max_dataset, batch_size = 3, collate_fn=pad_collate, drop_last=False)\n",
    "max_sample_iter = iter(max_sample_loader)\n",
    "next(max_sample_iter)\n",
    "max_batch = next(max_sample_iter)\n",
    "max_batch"
   ]
  },
  {
   "cell_type": "code",
   "execution_count": 12,
   "metadata": {},
   "outputs": [
    {
     "data": {
      "text/plain": [
       "['angikarinchaaru', 'anthamu', 'anatham']"
      ]
     },
     "execution_count": 12,
     "metadata": {},
     "output_type": "execute_result"
    }
   ],
   "source": [
    "[\"\".join(word.split()) for word in source_tokenizer.decode_batch(max_batch[0].tolist())]"
   ]
  },
  {
   "cell_type": "code",
   "execution_count": 13,
   "metadata": {},
   "outputs": [
    {
     "data": {
      "text/plain": [
       "['అంగీకరించారు', 'అంతము', 'అంతం']"
      ]
     },
     "execution_count": 13,
     "metadata": {},
     "output_type": "execute_result"
    }
   ],
   "source": [
    "[\"\".join(word.split()) for word in target_tokenizer.decode_batch(max_batch[1].tolist())]"
   ]
  },
  {
   "cell_type": "code",
   "execution_count": 14,
   "metadata": {},
   "outputs": [
    {
     "name": "stdout",
     "output_type": "stream",
     "text": [
      "torch.Size([3, 8]) torch.Size([3, 10]) 3 torch.Size([3, 9, 128])\n"
     ]
    }
   ],
   "source": [
    "max_out = model(max_batch)\n",
    "print(max_batch[0].shape, max_batch[1].shape,len(max_batch[2]) ,max_out.shape)"
   ]
  },
  {
   "cell_type": "code",
   "execution_count": 15,
   "metadata": {},
   "outputs": [
    {
     "data": {
      "text/plain": [
       "['ఊించఎఎఎడుఎఎ', 'ంపుంంండకాకాంప్', 'ాాంాాద్ంంండ']"
      ]
     },
     "execution_count": 15,
     "metadata": {},
     "output_type": "execute_result"
    }
   ],
   "source": [
    "[\"\".join(word.split()) for word in target_tokenizer.decode_batch(torch.argmax(max_out, dim = -1).tolist())]"
   ]
  },
  {
   "cell_type": "code",
   "execution_count": 16,
   "metadata": {},
   "outputs": [
    {
     "data": {
      "text/plain": [
       "(tensor(4.8986, grad_fn=<NllLossBackward>), tensor(0.0588))"
      ]
     },
     "execution_count": 16,
     "metadata": {},
     "output_type": "execute_result"
    }
   ],
   "source": [
    "masked_loss(max_out,max_batch[1], pad_id ), masked_accuracy(max_out,max_batch[1], pad_id )"
   ]
  }
 ],
 "metadata": {
  "kernelspec": {
   "display_name": "Python 3",
   "language": "python",
   "name": "python3"
  },
  "language_info": {
   "codemirror_mode": {
    "name": "ipython",
    "version": 3
   },
   "file_extension": ".py",
   "mimetype": "text/x-python",
   "name": "python",
   "nbconvert_exporter": "python",
   "pygments_lexer": "ipython3",
   "version": "3.6.10"
  }
 },
 "nbformat": 4,
 "nbformat_minor": 4
}

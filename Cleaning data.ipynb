{
 "cells": [
  {
   "source": [
    "# Cleaning the data"
   ],
   "cell_type": "markdown",
   "metadata": {}
  },
  {
   "cell_type": "code",
   "execution_count": 1,
   "metadata": {},
   "outputs": [],
   "source": [
    "%load_ext autoreload\n",
    "%autoreload 2\n",
    "import numpy as np\n",
    "import pandas as pd\n",
    "from pathlib import Path\n",
    "from collections import Counter"
   ]
  },
  {
   "source": [
    "## While the raw data is stored in raw_data_dir, any newly created files are stored in proc_data_dir"
   ],
   "cell_type": "markdown",
   "metadata": {}
  },
  {
   "cell_type": "code",
   "execution_count": 2,
   "metadata": {},
   "outputs": [],
   "source": [
    "cur_dir = Path.cwd()\n",
    "data_dir = cur_dir / \"data\"\n",
    "raw_data_dir = data_dir / \"raw_data\"\n",
    "proc_data_dir = data_dir / \"processed_data\"\n",
    "sample_file = raw_data_dir / \"sample.tsv\"\n",
    "dev_file = raw_data_dir / \"te.translit.sampled.dev.tsv\"\n",
    "train_file = raw_data_dir / \"te.translit.sampled.train.tsv\"\n",
    "test_file = raw_data_dir / \"te.translit.sampled.test.tsv\""
   ]
  },
  {
   "cell_type": "code",
   "execution_count": 3,
   "metadata": {},
   "outputs": [],
   "source": [
    "names=[\"target\",\"source\", \"frequency\"]\n",
    "types = [\"string\",\"string\",\"int8\"]\n",
    "col_types = dict(zip(names,types))"
   ]
  },
  {
   "source": [
    "## We transliterate the text from source script(roman) to target script(telugu)"
   ],
   "cell_type": "markdown",
   "metadata": {}
  },
  {
   "cell_type": "code",
   "execution_count": 4,
   "metadata": {},
   "outputs": [
    {
     "output_type": "execute_result",
     "data": {
      "text/plain": [
       "      target         source  frequency\n",
       "0        అంక           amka          1\n",
       "1        అంక           anka          3\n",
       "2       అంకం          amkam          1\n",
       "3       అంకం          ankam          2\n",
       "4  అంగీకరించ  amgiikarimcha          1"
      ],
      "text/html": "<div>\n<style scoped>\n    .dataframe tbody tr th:only-of-type {\n        vertical-align: middle;\n    }\n\n    .dataframe tbody tr th {\n        vertical-align: top;\n    }\n\n    .dataframe thead th {\n        text-align: right;\n    }\n</style>\n<table border=\"1\" class=\"dataframe\">\n  <thead>\n    <tr style=\"text-align: right;\">\n      <th></th>\n      <th>target</th>\n      <th>source</th>\n      <th>frequency</th>\n    </tr>\n  </thead>\n  <tbody>\n    <tr>\n      <th>0</th>\n      <td>అంక</td>\n      <td>amka</td>\n      <td>1</td>\n    </tr>\n    <tr>\n      <th>1</th>\n      <td>అంక</td>\n      <td>anka</td>\n      <td>3</td>\n    </tr>\n    <tr>\n      <th>2</th>\n      <td>అంకం</td>\n      <td>amkam</td>\n      <td>1</td>\n    </tr>\n    <tr>\n      <th>3</th>\n      <td>అంకం</td>\n      <td>ankam</td>\n      <td>2</td>\n    </tr>\n    <tr>\n      <th>4</th>\n      <td>అంగీకరించ</td>\n      <td>amgiikarimcha</td>\n      <td>1</td>\n    </tr>\n  </tbody>\n</table>\n</div>"
     },
     "metadata": {},
     "execution_count": 4
    }
   ],
   "source": [
    "df_train= pd.read_csv(train_file, sep='\\t',header = None , names=names)\n",
    "df_dev= pd.read_csv(dev_file, sep='\\t',header = None , names=names)\n",
    "df_test= pd.read_csv(test_file, sep='\\t',header = None , names=names)\n",
    "df_dev.head()"
   ]
  },
  {
   "cell_type": "code",
   "execution_count": 5,
   "metadata": {},
   "outputs": [
    {
     "output_type": "stream",
     "name": "stdout",
     "text": [
      "<class 'pandas.core.frame.DataFrame'>\nRangeIndex: 58550 entries, 0 to 58549\nData columns (total 3 columns):\n #   Column     Non-Null Count  Dtype \n---  ------     --------------  ----- \n 0   target     58550 non-null  object\n 1   source     58549 non-null  object\n 2   frequency  58550 non-null  int64 \ndtypes: int64(1), object(2)\nmemory usage: 1.3+ MB\n"
     ]
    }
   ],
   "source": [
    "df_train.info()\n",
    "#One null object in source column"
   ]
  },
  {
   "cell_type": "code",
   "execution_count": 6,
   "metadata": {},
   "outputs": [
    {
     "output_type": "stream",
     "name": "stdout",
     "text": [
      "<class 'pandas.core.frame.DataFrame'>\nRangeIndex: 5683 entries, 0 to 5682\nData columns (total 3 columns):\n #   Column     Non-Null Count  Dtype \n---  ------     --------------  ----- \n 0   target     5683 non-null   object\n 1   source     5683 non-null   object\n 2   frequency  5683 non-null   int64 \ndtypes: int64(1), object(2)\nmemory usage: 133.3+ KB\n"
     ]
    }
   ],
   "source": [
    "df_dev.info()"
   ]
  },
  {
   "cell_type": "code",
   "execution_count": 7,
   "metadata": {},
   "outputs": [
    {
     "name": "stdout",
     "output_type": "stream",
     "text": [
      "<class 'pandas.core.frame.DataFrame'>\n",
      "RangeIndex: 5747 entries, 0 to 5746\n",
      "Data columns (total 3 columns):\n",
      " #   Column     Non-Null Count  Dtype \n",
      "---  ------     --------------  ----- \n",
      " 0   target     5747 non-null   object\n",
      " 1   source     5747 non-null   object\n",
      " 2   frequency  5747 non-null   int64 \n",
      "dtypes: int64(1), object(2)\n",
      "memory usage: 134.8+ KB\n"
     ]
    }
   ],
   "source": [
    "df_test.info()"
   ]
  },
  {
   "cell_type": "code",
   "execution_count": 9,
   "metadata": {},
   "outputs": [
    {
     "data": {
      "text/html": [
       "<div>\n",
       "<style scoped>\n",
       "    .dataframe tbody tr th:only-of-type {\n",
       "        vertical-align: middle;\n",
       "    }\n",
       "\n",
       "    .dataframe tbody tr th {\n",
       "        vertical-align: top;\n",
       "    }\n",
       "\n",
       "    .dataframe thead th {\n",
       "        text-align: right;\n",
       "    }\n",
       "</style>\n",
       "<table border=\"1\" class=\"dataframe\">\n",
       "  <thead>\n",
       "    <tr style=\"text-align: right;\">\n",
       "      <th></th>\n",
       "      <th>target</th>\n",
       "      <th>source</th>\n",
       "      <th>frequency</th>\n",
       "    </tr>\n",
       "  </thead>\n",
       "  <tbody>\n",
       "    <tr>\n",
       "      <th>26313</th>\n",
       "      <td>నాన్</td>\n",
       "      <td>NaN</td>\n",
       "      <td>1</td>\n",
       "    </tr>\n",
       "  </tbody>\n",
       "</table>\n",
       "</div>"
      ],
      "text/plain": [
       "      target source  frequency\n",
       "26313   నాన్    NaN          1"
      ]
     },
     "execution_count": 9,
     "metadata": {},
     "output_type": "execute_result"
    }
   ],
   "source": [
    "df_train[df_train.source.isnull()]"
   ]
  },
  {
   "cell_type": "code",
   "execution_count": 10,
   "metadata": {},
   "outputs": [
    {
     "name": "stdout",
     "output_type": "stream",
     "text": [
      "<class 'pandas.core.frame.DataFrame'>\n",
      "RangeIndex: 58549 entries, 0 to 58548\n",
      "Data columns (total 3 columns):\n",
      " #   Column     Non-Null Count  Dtype \n",
      "---  ------     --------------  ----- \n",
      " 0   target     58549 non-null  object\n",
      " 1   source     58549 non-null  object\n",
      " 2   frequency  58549 non-null  int64 \n",
      "dtypes: int64(1), object(2)\n",
      "memory usage: 1.3+ MB\n"
     ]
    }
   ],
   "source": [
    "df_train.dropna(inplace =True)\n",
    "# Removing the row with null value\n",
    "df_train.reset_index(drop=True, inplace =True)\n",
    "df_train.info()"
   ]
  },
  {
   "cell_type": "code",
   "execution_count": 11,
   "metadata": {},
   "outputs": [
    {
     "data": {
      "text/plain": [
       "dict_keys(['అ', 'ం', 'క', 'ి', 'త', 'భ', 'ా', 'వ', 'మ', 'చ', '్', 'డ', 'ు', 'ర', 'ై', 'న', 'శ', 'ె', 'ల', 'గ', 'ద', 'ష', 'య', 'ీ', 'ే', 'స', 'ో', 'ళ', 'జ', 'ట', 'ూ', 'ః', 'ప', 'ఖ', 'ధ', 'థ', 'బ', 'ణ', 'ఠ', 'ౌ', 'హ', 'ఞ', 'ఫ', 'ొ', 'ృ', 'ఘ', 'ఆ', 'ఢ', 'ఇ', 'ఈ', 'ఉ', 'ఛ', 'ఊ', 'ఋ', 'ఎ', 'ఏ', 'ఱ', 'ఐ', 'ఒ', 'ఓ', 'ఔ', 'ఝ', '\\u200c'])"
      ]
     },
     "execution_count": 11,
     "metadata": {},
     "output_type": "execute_result"
    }
   ],
   "source": [
    "Counter(df_train.target.sum()).keys()\n",
    "#Last letter here is half space character"
   ]
  },
  {
   "cell_type": "code",
   "execution_count": 12,
   "metadata": {},
   "outputs": [
    {
     "data": {
      "text/plain": [
       "dict_keys(['అ', 'ం', 'క', 'గ', 'ీ', 'ర', 'ి', 'చ', 'డ', 'ా', 'న', 'ు', 'ద', 'ట', 'త', 'మ', 'ల', 'ో', 'వ', 'ూ', 'స', '్', 'బ', 'ష', 'ె', 'య', 'జ', 'ణ', 'ఞ', 'ధ', 'ై', 'ప', 'ే', 'భ', 'హ', 'ఖ', 'ృ', 'థ', 'శ', 'ఆ', 'ళ', 'ఫ', 'ఘ', 'ఇ', 'ఈ', 'ఉ', 'ఠ', 'ఊ', 'ఋ', 'ఎ', 'ఏ', 'ఐ', 'ఒ', 'ొ', 'ఓ', 'ఔ', 'ౌ', 'ఛ', 'ఢ'])"
      ]
     },
     "execution_count": 12,
     "metadata": {},
     "output_type": "execute_result"
    }
   ],
   "source": [
    "Counter(df_dev.target.sum()).keys()"
   ]
  },
  {
   "cell_type": "code",
   "execution_count": 13,
   "metadata": {},
   "outputs": [
    {
     "data": {
      "text/plain": [
       "dict_keys(['అ', 'ం', 'క', 'ల', 'ో', 'ి', 'త', 'మ', 'ై', 'ె', 'న', 'ు', 'గ', 'ీ', 'ర', 'చ', 'ా', 'డ', 'ే', 'ట', 'వ', '్', 'ద', 'ప', 'జ', 'ణ', 'ఞ', 'ొ', 'ధ', 'హ', 'య', 'ష', 'భ', 'ూ', 'శ', 'స', 'బ', 'ృ', 'థ', 'ఖ', 'ఆ', 'ఇ', 'ఛ', 'ఈ', 'ఉ', 'ఊ', 'ళ', 'ఋ', 'ఎ', 'ఏ', 'ఐ', 'ఒ', 'ఓ', 'ఔ', 'ఠ', 'ౌ', 'ఘ', 'ఫ', 'ఢ', 'ః'])"
      ]
     },
     "execution_count": 13,
     "metadata": {},
     "output_type": "execute_result"
    }
   ],
   "source": [
    "Counter(df_test.target.sum()).keys()"
   ]
  },
  {
   "cell_type": "code",
   "execution_count": 14,
   "metadata": {},
   "outputs": [
    {
     "data": {
      "text/plain": [
       "'\\u200c'"
      ]
     },
     "execution_count": 14,
     "metadata": {},
     "output_type": "execute_result"
    }
   ],
   "source": [
    "half_space = list(Counter(df_train.target.sum()).keys())[-1]\n",
    "half_space"
   ]
  },
  {
   "cell_type": "code",
   "execution_count": 15,
   "metadata": {},
   "outputs": [
    {
     "data": {
      "text/html": [
       "<div>\n",
       "<style scoped>\n",
       "    .dataframe tbody tr th:only-of-type {\n",
       "        vertical-align: middle;\n",
       "    }\n",
       "\n",
       "    .dataframe tbody tr th {\n",
       "        vertical-align: top;\n",
       "    }\n",
       "\n",
       "    .dataframe thead th {\n",
       "        text-align: right;\n",
       "    }\n",
       "</style>\n",
       "<table border=\"1\" class=\"dataframe\">\n",
       "  <thead>\n",
       "    <tr style=\"text-align: right;\">\n",
       "      <th></th>\n",
       "      <th>target</th>\n",
       "      <th>source</th>\n",
       "      <th>frequency</th>\n",
       "    </tr>\n",
       "  </thead>\n",
       "  <tbody>\n",
       "    <tr>\n",
       "      <th>36088</th>\n",
       "      <td>ఫేస్‌బుక్</td>\n",
       "      <td>facebook</td>\n",
       "      <td>2</td>\n",
       "    </tr>\n",
       "    <tr>\n",
       "      <th>36089</th>\n",
       "      <td>ఫేస్‌బుక్</td>\n",
       "      <td>feesbuk</td>\n",
       "      <td>1</td>\n",
       "    </tr>\n",
       "    <tr>\n",
       "      <th>36090</th>\n",
       "      <td>ఫేస్‌బుక్</td>\n",
       "      <td>phaesbuk</td>\n",
       "      <td>1</td>\n",
       "    </tr>\n",
       "    <tr>\n",
       "      <th>36091</th>\n",
       "      <td>ఫేస్‌బుక్</td>\n",
       "      <td>pheesbuk</td>\n",
       "      <td>1</td>\n",
       "    </tr>\n",
       "    <tr>\n",
       "      <th>46034</th>\n",
       "      <td>లోక్‌సభ</td>\n",
       "      <td>loeksabha</td>\n",
       "      <td>1</td>\n",
       "    </tr>\n",
       "    <tr>\n",
       "      <th>46035</th>\n",
       "      <td>లోక్‌సభ</td>\n",
       "      <td>loksabha</td>\n",
       "      <td>3</td>\n",
       "    </tr>\n",
       "  </tbody>\n",
       "</table>\n",
       "</div>"
      ],
      "text/plain": [
       "          target     source  frequency\n",
       "36088  ఫేస్‌బుక్   facebook          2\n",
       "36089  ఫేస్‌బుక్    feesbuk          1\n",
       "36090  ఫేస్‌బుక్   phaesbuk          1\n",
       "36091  ఫేస్‌బుక్   pheesbuk          1\n",
       "46034    లోక్‌సభ  loeksabha          1\n",
       "46035    లోక్‌సభ   loksabha          3"
      ]
     },
     "execution_count": 15,
     "metadata": {},
     "output_type": "execute_result"
    }
   ],
   "source": [
    "half_space_rows = np.flatnonzero(df_train.target.apply(lambda x: half_space in x))\n",
    "df_train.loc[half_space_rows]\n",
    "#Words with halfspace"
   ]
  },
  {
   "cell_type": "code",
   "execution_count": 19,
   "metadata": {},
   "outputs": [
    {
     "data": {
      "text/plain": [
       "36088    [ఫ, ే, స, ్, ‌, బ, ు, క, ్]\n",
       "36089    [ఫ, ే, స, ్, ‌, బ, ు, క, ్]\n",
       "36090    [ఫ, ే, స, ్, ‌, బ, ు, క, ్]\n",
       "36091    [ఫ, ే, స, ్, ‌, బ, ు, క, ్]\n",
       "46034          [ల, ో, క, ్, ‌, స, భ]\n",
       "46035          [ల, ో, క, ్, ‌, స, భ]\n",
       "Name: target, dtype: object"
      ]
     },
     "execution_count": 19,
     "metadata": {},
     "output_type": "execute_result"
    }
   ],
   "source": [
    "df_train.loc[half_space_rows].target.apply(lambda x: list(x))\n"
   ]
  },
  {
   "cell_type": "code",
   "execution_count": 22,
   "metadata": {},
   "outputs": [
    {
     "data": {
      "text/plain": [
       "['ఫేస్\\u200cబుక్', 'లోక్\\u200cసభ']"
      ]
     },
     "execution_count": 22,
     "metadata": {},
     "output_type": "execute_result"
    }
   ],
   "source": [
    "halfspaced_words = df_train.loc[half_space_rows,\"target\"].unique().tolist()\n",
    "halfspaced_words"
   ]
  },
  {
   "cell_type": "code",
   "execution_count": 23,
   "metadata": {},
   "outputs": [
    {
     "data": {
      "text/plain": [
       "['ఫేస్బుక్', 'లోక్సభ']"
      ]
     },
     "execution_count": 23,
     "metadata": {},
     "output_type": "execute_result"
    }
   ],
   "source": [
    "def remove_halfspace(word,char):\n",
    "    chars = list(word)\n",
    "    chars.remove(char)\n",
    "    return \"\".join(chars)\n",
    "#Function to remove half space from words and rejoin them\n",
    "revised_words = [remove_halfspace(word,half_space) for word in halfspaced_words]\n",
    "revised_words"
   ]
  },
  {
   "cell_type": "code",
   "execution_count": 24,
   "metadata": {},
   "outputs": [
    {
     "data": {
      "text/plain": [
       "{'ఫేస్\\u200cబుక్': 'ఫేస్బుక్', 'లోక్\\u200cసభ': 'లోక్సభ'}"
      ]
     },
     "execution_count": 24,
     "metadata": {},
     "output_type": "execute_result"
    }
   ],
   "source": [
    "correction_dict = dict(zip(halfspaced_words,revised_words))\n",
    "correction_dict"
   ]
  },
  {
   "cell_type": "code",
   "execution_count": 26,
   "metadata": {},
   "outputs": [
    {
     "data": {
      "text/html": [
       "<div>\n",
       "<style scoped>\n",
       "    .dataframe tbody tr th:only-of-type {\n",
       "        vertical-align: middle;\n",
       "    }\n",
       "\n",
       "    .dataframe tbody tr th {\n",
       "        vertical-align: top;\n",
       "    }\n",
       "\n",
       "    .dataframe thead th {\n",
       "        text-align: right;\n",
       "    }\n",
       "</style>\n",
       "<table border=\"1\" class=\"dataframe\">\n",
       "  <thead>\n",
       "    <tr style=\"text-align: right;\">\n",
       "      <th></th>\n",
       "      <th>target</th>\n",
       "      <th>source</th>\n",
       "      <th>frequency</th>\n",
       "    </tr>\n",
       "  </thead>\n",
       "  <tbody>\n",
       "    <tr>\n",
       "      <th>36088</th>\n",
       "      <td>ఫేస్బుక్</td>\n",
       "      <td>facebook</td>\n",
       "      <td>2</td>\n",
       "    </tr>\n",
       "    <tr>\n",
       "      <th>36089</th>\n",
       "      <td>ఫేస్బుక్</td>\n",
       "      <td>feesbuk</td>\n",
       "      <td>1</td>\n",
       "    </tr>\n",
       "    <tr>\n",
       "      <th>36090</th>\n",
       "      <td>ఫేస్బుక్</td>\n",
       "      <td>phaesbuk</td>\n",
       "      <td>1</td>\n",
       "    </tr>\n",
       "    <tr>\n",
       "      <th>36091</th>\n",
       "      <td>ఫేస్బుక్</td>\n",
       "      <td>pheesbuk</td>\n",
       "      <td>1</td>\n",
       "    </tr>\n",
       "    <tr>\n",
       "      <th>46034</th>\n",
       "      <td>లోక్సభ</td>\n",
       "      <td>loeksabha</td>\n",
       "      <td>1</td>\n",
       "    </tr>\n",
       "    <tr>\n",
       "      <th>46035</th>\n",
       "      <td>లోక్సభ</td>\n",
       "      <td>loksabha</td>\n",
       "      <td>3</td>\n",
       "    </tr>\n",
       "  </tbody>\n",
       "</table>\n",
       "</div>"
      ],
      "text/plain": [
       "         target     source  frequency\n",
       "36088  ఫేస్బుక్   facebook          2\n",
       "36089  ఫేస్బుక్    feesbuk          1\n",
       "36090  ఫేస్బుక్   phaesbuk          1\n",
       "36091  ఫేస్బుక్   pheesbuk          1\n",
       "46034    లోక్సభ  loeksabha          1\n",
       "46035    లోక్సభ   loksabha          3"
      ]
     },
     "execution_count": 26,
     "metadata": {},
     "output_type": "execute_result"
    }
   ],
   "source": [
    "df_train.replace(to_replace = correction_dict, inplace=True)\n",
    "#Replacing half spaced words with corrected words\n",
    "df_train.loc[half_space_rows]"
   ]
  },
  {
   "cell_type": "code",
   "execution_count": 29,
   "metadata": {},
   "outputs": [],
   "source": [
    "trn_tgt_alphabets = set(Counter(df_train.target.sum()).keys())\n",
    "dev_tgt_alphabets = set(Counter(df_dev.target.sum()).keys())\n",
    "tst_tgt_alphabets = set(Counter(df_test.target.sum()).keys())"
   ]
  },
  {
   "cell_type": "code",
   "execution_count": 30,
   "metadata": {},
   "outputs": [
    {
     "data": {
      "text/plain": [
       "({'ః', 'ఝ', 'ఱ'}, {'ః', 'ఝ', 'ఱ'})"
      ]
     },
     "execution_count": 30,
     "metadata": {},
     "output_type": "execute_result"
    }
   ],
   "source": [
    "trn_tgt_alphabets^dev_tgt_alphabets,trn_tgt_alphabets - dev_tgt_alphabets\n",
    "#Checking if training set characters are superset of dev and and test set charcters"
   ]
  },
  {
   "cell_type": "code",
   "execution_count": 31,
   "metadata": {},
   "outputs": [
    {
     "data": {
      "text/plain": [
       "({'ఝ', 'ఱ'}, {'ఝ', 'ఱ'})"
      ]
     },
     "execution_count": 31,
     "metadata": {},
     "output_type": "execute_result"
    }
   ],
   "source": [
    "trn_tgt_alphabets^tst_tgt_alphabets,trn_tgt_alphabets - tst_tgt_alphabets"
   ]
  },
  {
   "cell_type": "markdown",
   "metadata": {},
   "source": [
    "### So, alphabets of training set  are superset of that of dev set and test set for targets"
   ]
  },
  {
   "cell_type": "code",
   "execution_count": 32,
   "metadata": {},
   "outputs": [
    {
     "name": "stdout",
     "output_type": "stream",
     "text": [
      "['a', 'b', 'c', 'd', 'e', 'f', 'g', 'h', 'i', 'j', 'k', 'l', 'm', 'n', 'o', 'p', 'q', 'r', 's', 't', 'u', 'v', 'w', 'x', 'y', 'z']\n"
     ]
    }
   ],
   "source": [
    "print(sorted(Counter(df_train.source.sum()).keys()))"
   ]
  },
  {
   "cell_type": "code",
   "execution_count": 33,
   "metadata": {},
   "outputs": [
    {
     "name": "stdout",
     "output_type": "stream",
     "text": [
      "['a', 'b', 'c', 'd', 'e', 'f', 'g', 'h', 'i', 'j', 'k', 'l', 'm', 'n', 'o', 'p', 'q', 'r', 's', 't', 'u', 'v', 'w', 'x', 'y', 'z']\n"
     ]
    }
   ],
   "source": [
    "print(sorted(Counter(df_dev.source.sum()).keys()))"
   ]
  },
  {
   "cell_type": "code",
   "execution_count": 34,
   "metadata": {},
   "outputs": [
    {
     "name": "stdout",
     "output_type": "stream",
     "text": [
      "['a', 'b', 'c', 'd', 'e', 'f', 'g', 'h', 'i', 'j', 'k', 'l', 'm', 'n', 'o', 'p', 'q', 'r', 's', 't', 'u', 'v', 'w', 'x', 'y', 'z']\n"
     ]
    }
   ],
   "source": [
    "print(sorted(Counter(df_test.source.sum()).keys()))"
   ]
  },
  {
   "cell_type": "code",
   "execution_count": 35,
   "metadata": {},
   "outputs": [],
   "source": [
    "cleaned_train_file = proc_data_dir / \"train_clean.tsv\"\n",
    "df_train.to_csv(cleaned_train_file, sep='\\t', header = False, index=False)"
   ]
  }
 ],
 "metadata": {
  "kernelspec": {
   "display_name": "Python 3",
   "language": "python",
   "name": "python3"
  },
  "language_info": {
   "codemirror_mode": {
    "name": "ipython",
    "version": 3
   },
   "file_extension": ".py",
   "mimetype": "text/x-python",
   "name": "python",
   "nbconvert_exporter": "python",
   "pygments_lexer": "ipython3",
   "version": "3.7.6-final"
  }
 },
 "nbformat": 4,
 "nbformat_minor": 4
}